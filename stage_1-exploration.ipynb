{
 "cells": [
  {
   "attachments": {},
   "cell_type": "markdown",
   "metadata": {},
   "source": [
    "# Grupo Bimbo Inventory Demand Prediction Challenge"
   ]
  },
  {
   "attachments": {},
   "cell_type": "markdown",
   "metadata": {},
   "source": [
    "Data Exploration"
   ]
  },
  {
   "attachments": {},
   "cell_type": "markdown",
   "metadata": {},
   "source": [
    "## Loading the datasets"
   ]
  },
  {
   "cell_type": "code",
   "execution_count": 6,
   "metadata": {},
   "outputs": [],
   "source": [
    "import pandas as pd\n",
    "import numpy as np"
   ]
  },
  {
   "cell_type": "code",
   "execution_count": 7,
   "metadata": {},
   "outputs": [],
   "source": [
    "train_test_dtypes = {\n",
    "    \"Semana\": np.int8,\n",
    "    \"Agencia_ID\": np.int16,\n",
    "    \"Canal_ID\": np.int8,\n",
    "    \"Ruta_SAK\": np.int16, \n",
    "    \"Cliente_ID\": np.int32,\n",
    "    \"Producto_ID\": np.int32,\n",
    "    \"Venta_uni_hoy\": np.int16, \n",
    "    \"Venta_hoy\": np.float32,\n",
    "    \"Dev_uni_proxima\": np.int32,\n",
    "    \"Dev_proxima\": np.float32,\n",
    "    \"Demanda_uni_equil\": np.int16\n",
    "}"
   ]
  },
  {
   "cell_type": "code",
   "execution_count": 8,
   "metadata": {},
   "outputs": [],
   "source": [
    "train_data = pd.read_csv(\"Stage_0-Datasets/train.csv\", dtype=train_test_dtypes)\n",
    "test_data = pd.read_csv(\"Stage_0-Datasets/test.csv\", dtype=train_test_dtypes)"
   ]
  },
  {
   "cell_type": "code",
   "execution_count": 9,
   "metadata": {},
   "outputs": [],
   "source": [
    "dtypes_town_state = {\"Agencia_ID\": np.int16}\n",
    "dtypes_client = {\"Cliente_ID\": np.int32}\n",
    "dtypes_product = {\"Producto_ID\": np.int32}"
   ]
  },
  {
   "cell_type": "code",
   "execution_count": 10,
   "metadata": {},
   "outputs": [],
   "source": [
    "town_state_data = pd.read_csv(\"Stage_0-Datasets/town_state.csv\", dtype=dtypes_town_state)\n",
    "client_data = pd.read_csv(\"Stage_0-Datasets/cliente_tabla.csv\", dtype=dtypes_client)\n",
    "product_data = pd.read_csv(\"Stage_0-Datasets/producto_tabla.csv\", dtype=dtypes_product)"
   ]
  },
  {
   "cell_type": "code",
   "execution_count": 11,
   "metadata": {},
   "outputs": [],
   "source": [
    "columns = {\n",
    "    \"Semana\": \"wk_no\", \n",
    "    \"Agencia_ID\": \"Sales Depot ID\", \n",
    "    \"Canal_ID\": \"Sales Channel ID\", \n",
    "    \"Ruta_SAK\": \"Route ID\", \n",
    "    \"Cliente_ID\": \"Client ID\", \n",
    "    \"Producto_ID\": \"Product ID\", \n",
    "    \"Venta_uni_hoy\": \"Sales Unit this week\",\n",
    "    \"Venta_hoy\": \"Sales this week\",\n",
    "    \"Dev_uni_proxima\": \"Returns Unit next week\",\n",
    "    \"Dev_proxima\": \"Returns next week\",\n",
    "    \"Demanda_uni_equil\": \"Demand\"\n",
    "}"
   ]
  },
  {
   "cell_type": "code",
   "execution_count": 12,
   "metadata": {},
   "outputs": [],
   "source": [
    "train_data = train_data.rename(columns=columns)\n",
    "test_data = test_data.rename(columns=columns)\n",
    "product_data = product_data.rename(columns = columns)\n",
    "client_data = client_data.rename(columns=columns)\n",
    "town_state_data = town_state_data.rename(columns=columns)"
   ]
  },
  {
   "attachments": {},
   "cell_type": "markdown",
   "metadata": {},
   "source": [
    "## Data Exploration"
   ]
  },
  {
   "attachments": {},
   "cell_type": "markdown",
   "metadata": {},
   "source": [
    "### Town Data"
   ]
  },
  {
   "cell_type": "code",
   "execution_count": 13,
   "metadata": {},
   "outputs": [
    {
     "data": {
      "text/html": [
       "<div>\n",
       "<style scoped>\n",
       "    .dataframe tbody tr th:only-of-type {\n",
       "        vertical-align: middle;\n",
       "    }\n",
       "\n",
       "    .dataframe tbody tr th {\n",
       "        vertical-align: top;\n",
       "    }\n",
       "\n",
       "    .dataframe thead th {\n",
       "        text-align: right;\n",
       "    }\n",
       "</style>\n",
       "<table border=\"1\" class=\"dataframe\">\n",
       "  <thead>\n",
       "    <tr style=\"text-align: right;\">\n",
       "      <th></th>\n",
       "      <th>Sales Depot ID</th>\n",
       "      <th>Town</th>\n",
       "      <th>State</th>\n",
       "    </tr>\n",
       "  </thead>\n",
       "  <tbody>\n",
       "    <tr>\n",
       "      <th>0</th>\n",
       "      <td>1110</td>\n",
       "      <td>2008 AG. LAGO FILT</td>\n",
       "      <td>MÉXICO, D.F.</td>\n",
       "    </tr>\n",
       "    <tr>\n",
       "      <th>1</th>\n",
       "      <td>1111</td>\n",
       "      <td>2002 AG. AZCAPOTZALCO</td>\n",
       "      <td>MÉXICO, D.F.</td>\n",
       "    </tr>\n",
       "    <tr>\n",
       "      <th>2</th>\n",
       "      <td>1112</td>\n",
       "      <td>2004 AG. CUAUTITLAN</td>\n",
       "      <td>ESTADO DE MÉXICO</td>\n",
       "    </tr>\n",
       "    <tr>\n",
       "      <th>3</th>\n",
       "      <td>1113</td>\n",
       "      <td>2008 AG. LAGO FILT</td>\n",
       "      <td>MÉXICO, D.F.</td>\n",
       "    </tr>\n",
       "    <tr>\n",
       "      <th>4</th>\n",
       "      <td>1114</td>\n",
       "      <td>2029 AG.IZTAPALAPA 2</td>\n",
       "      <td>MÉXICO, D.F.</td>\n",
       "    </tr>\n",
       "  </tbody>\n",
       "</table>\n",
       "</div>"
      ],
      "text/plain": [
       "   Sales Depot ID                   Town             State\n",
       "0            1110     2008 AG. LAGO FILT      MÉXICO, D.F.\n",
       "1            1111  2002 AG. AZCAPOTZALCO      MÉXICO, D.F.\n",
       "2            1112    2004 AG. CUAUTITLAN  ESTADO DE MÉXICO\n",
       "3            1113     2008 AG. LAGO FILT      MÉXICO, D.F.\n",
       "4            1114   2029 AG.IZTAPALAPA 2      MÉXICO, D.F."
      ]
     },
     "execution_count": 13,
     "metadata": {},
     "output_type": "execute_result"
    }
   ],
   "source": [
    "town_state_data.head()"
   ]
  },
  {
   "cell_type": "code",
   "execution_count": 14,
   "metadata": {},
   "outputs": [
    {
     "name": "stdout",
     "output_type": "stream",
     "text": [
      "<class 'pandas.core.series.Series'>\n",
      "RangeIndex: 790 entries, 0 to 789\n",
      "Series name: Sales Depot ID\n",
      "Non-Null Count  Dtype\n",
      "--------------  -----\n",
      "790 non-null    int16\n",
      "dtypes: int16(1)\n",
      "memory usage: 1.7 KB\n"
     ]
    }
   ],
   "source": [
    "town_state_data[\"Sales Depot ID\"].info()\n"
   ]
  },
  {
   "cell_type": "code",
   "execution_count": 15,
   "metadata": {},
   "outputs": [
    {
     "name": "stdout",
     "output_type": "stream",
     "text": [
      "Our town state data has 790 observations and 3 variables.\n"
     ]
    }
   ],
   "source": [
    "print(\"Our town state data has\", town_state_data.shape[0], \"observations and\", town_state_data.shape[1], \"variables.\")"
   ]
  },
  {
   "cell_type": "code",
   "execution_count": 16,
   "metadata": {},
   "outputs": [
    {
     "name": "stdout",
     "output_type": "stream",
     "text": [
      "There are 257 unique towns.\n"
     ]
    }
   ],
   "source": [
    "town_state_data[\"town_id\"] = town_state_data[\"Town\"].str.split().str.get(0)\n",
    "print(\"There are\", town_state_data[\"town_id\"].nunique(), \"unique towns.\")"
   ]
  },
  {
   "cell_type": "code",
   "execution_count": 17,
   "metadata": {},
   "outputs": [
    {
     "name": "stdout",
     "output_type": "stream",
     "text": [
      "There are 33 states in our dataset.\n",
      "These states are ['AGUASCALIENTES', 'BAJA CALIFORNIA NORTE', 'BAJA CALIFORNIA SUR', 'CAMPECHE', 'CHIAPAS', 'CHIHUAHUA', 'COAHUILA', 'COLIMA', 'DURANGO', 'ESTADO DE MÉXICO', 'GUANAJUATO', 'GUERRERO', 'HIDALGO', 'JALISCO', 'MICHOACÁN', 'MORELOS', 'MÉXICO, D.F.', 'NAYARIT', 'NUEVO LEÓN', 'OAXACA', 'PUEBLA', 'QUERETARO', 'QUERETARO DE ARTEAGA', 'QUINTANA ROO', 'SAN LUIS POTOSÍ', 'SINALOA', 'SONORA', 'TABASCO', 'TAMAULIPAS', 'TLAXCALA', 'VERACRUZ', 'YUCATÁN', 'ZACATECAS']\n"
     ]
    }
   ],
   "source": [
    "town_state_data[\"State\"] = town_state_data[\"State\"].apply(str.upper)\n",
    "states = sorted(town_state_data[\"State\"].unique())\n",
    "print(\"There are\", len(states), \"states in our dataset.\")\n",
    "print(\"These states are\", states)"
   ]
  },
  {
   "attachments": {},
   "cell_type": "markdown",
   "metadata": {},
   "source": [
    "We make note that Mexico itself has 32 states (including the capital, `MEXICO D.F.`) instead of 33 states. We notice that `QUERETARO DE ARTEAGA` was the old name of `QUERTARO`. "
   ]
  },
  {
   "cell_type": "code",
   "execution_count": 18,
   "metadata": {},
   "outputs": [],
   "source": [
    "town_state_data[\"State\"] = town_state_data[\"State\"].str.replace(\"QUERETARO DE ARTEAGA\", \"QUERTARO\")"
   ]
  },
  {
   "cell_type": "code",
   "execution_count": 19,
   "metadata": {},
   "outputs": [],
   "source": [
    "from sklearn.preprocessing import LabelEncoder"
   ]
  },
  {
   "cell_type": "code",
   "execution_count": 20,
   "metadata": {},
   "outputs": [],
   "source": [
    "le = LabelEncoder()\n",
    "town_state_data[\"state_id\"] = le.fit_transform(town_state_data[\"State\"])"
   ]
  },
  {
   "cell_type": "code",
   "execution_count": 21,
   "metadata": {},
   "outputs": [
    {
     "data": {
      "text/html": [
       "<div>\n",
       "<style scoped>\n",
       "    .dataframe tbody tr th:only-of-type {\n",
       "        vertical-align: middle;\n",
       "    }\n",
       "\n",
       "    .dataframe tbody tr th {\n",
       "        vertical-align: top;\n",
       "    }\n",
       "\n",
       "    .dataframe thead th {\n",
       "        text-align: right;\n",
       "    }\n",
       "</style>\n",
       "<table border=\"1\" class=\"dataframe\">\n",
       "  <thead>\n",
       "    <tr style=\"text-align: right;\">\n",
       "      <th></th>\n",
       "      <th>Sales Depot ID</th>\n",
       "      <th>Town</th>\n",
       "      <th>State</th>\n",
       "      <th>town_id</th>\n",
       "      <th>state_id</th>\n",
       "    </tr>\n",
       "  </thead>\n",
       "  <tbody>\n",
       "    <tr>\n",
       "      <th>0</th>\n",
       "      <td>1110</td>\n",
       "      <td>2008 AG. LAGO FILT</td>\n",
       "      <td>MÉXICO, D.F.</td>\n",
       "      <td>2008</td>\n",
       "      <td>16</td>\n",
       "    </tr>\n",
       "    <tr>\n",
       "      <th>1</th>\n",
       "      <td>1111</td>\n",
       "      <td>2002 AG. AZCAPOTZALCO</td>\n",
       "      <td>MÉXICO, D.F.</td>\n",
       "      <td>2002</td>\n",
       "      <td>16</td>\n",
       "    </tr>\n",
       "    <tr>\n",
       "      <th>2</th>\n",
       "      <td>1112</td>\n",
       "      <td>2004 AG. CUAUTITLAN</td>\n",
       "      <td>ESTADO DE MÉXICO</td>\n",
       "      <td>2004</td>\n",
       "      <td>9</td>\n",
       "    </tr>\n",
       "    <tr>\n",
       "      <th>3</th>\n",
       "      <td>1113</td>\n",
       "      <td>2008 AG. LAGO FILT</td>\n",
       "      <td>MÉXICO, D.F.</td>\n",
       "      <td>2008</td>\n",
       "      <td>16</td>\n",
       "    </tr>\n",
       "    <tr>\n",
       "      <th>4</th>\n",
       "      <td>1114</td>\n",
       "      <td>2029 AG.IZTAPALAPA 2</td>\n",
       "      <td>MÉXICO, D.F.</td>\n",
       "      <td>2029</td>\n",
       "      <td>16</td>\n",
       "    </tr>\n",
       "  </tbody>\n",
       "</table>\n",
       "</div>"
      ],
      "text/plain": [
       "   Sales Depot ID                   Town             State town_id  state_id\n",
       "0            1110     2008 AG. LAGO FILT      MÉXICO, D.F.    2008        16\n",
       "1            1111  2002 AG. AZCAPOTZALCO      MÉXICO, D.F.    2002        16\n",
       "2            1112    2004 AG. CUAUTITLAN  ESTADO DE MÉXICO    2004         9\n",
       "3            1113     2008 AG. LAGO FILT      MÉXICO, D.F.    2008        16\n",
       "4            1114   2029 AG.IZTAPALAPA 2      MÉXICO, D.F.    2029        16"
      ]
     },
     "execution_count": 21,
     "metadata": {},
     "output_type": "execute_result"
    }
   ],
   "source": [
    "town_state_data.head()"
   ]
  },
  {
   "cell_type": "code",
   "execution_count": 22,
   "metadata": {},
   "outputs": [
    {
     "name": "stdout",
     "output_type": "stream",
     "text": [
      "<class 'pandas.core.frame.DataFrame'>\n",
      "RangeIndex: 790 entries, 0 to 789\n",
      "Data columns (total 5 columns):\n",
      " #   Column          Non-Null Count  Dtype \n",
      "---  ------          --------------  ----- \n",
      " 0   Sales Depot ID  790 non-null    int16 \n",
      " 1   Town            790 non-null    object\n",
      " 2   State           790 non-null    object\n",
      " 3   town_id         790 non-null    object\n",
      " 4   state_id        790 non-null    int32 \n",
      "dtypes: int16(1), int32(1), object(3)\n",
      "memory usage: 23.3+ KB\n"
     ]
    }
   ],
   "source": [
    "town_state_data.info()"
   ]
  },
  {
   "cell_type": "code",
   "execution_count": 23,
   "metadata": {},
   "outputs": [
    {
     "data": {
      "text/plain": [
       "880604"
      ]
     },
     "execution_count": 23,
     "metadata": {},
     "output_type": "execute_result"
    }
   ],
   "source": [
    "train_data[\"Client ID\"].nunique()"
   ]
  },
  {
   "cell_type": "code",
   "execution_count": 24,
   "metadata": {},
   "outputs": [
    {
     "data": {
      "text/plain": [
       "930500"
      ]
     },
     "execution_count": 24,
     "metadata": {},
     "output_type": "execute_result"
    }
   ],
   "source": [
    "client_data[\"Client ID\"].nunique()"
   ]
  },
  {
   "attachments": {},
   "cell_type": "markdown",
   "metadata": {},
   "source": [
    "### Client Data"
   ]
  },
  {
   "cell_type": "code",
   "execution_count": 25,
   "metadata": {},
   "outputs": [
    {
     "data": {
      "text/html": [
       "<div>\n",
       "<style scoped>\n",
       "    .dataframe tbody tr th:only-of-type {\n",
       "        vertical-align: middle;\n",
       "    }\n",
       "\n",
       "    .dataframe tbody tr th {\n",
       "        vertical-align: top;\n",
       "    }\n",
       "\n",
       "    .dataframe thead th {\n",
       "        text-align: right;\n",
       "    }\n",
       "</style>\n",
       "<table border=\"1\" class=\"dataframe\">\n",
       "  <thead>\n",
       "    <tr style=\"text-align: right;\">\n",
       "      <th></th>\n",
       "      <th>Client ID</th>\n",
       "      <th>NombreCliente</th>\n",
       "    </tr>\n",
       "  </thead>\n",
       "  <tbody>\n",
       "    <tr>\n",
       "      <th>0</th>\n",
       "      <td>0</td>\n",
       "      <td>SIN NOMBRE</td>\n",
       "    </tr>\n",
       "    <tr>\n",
       "      <th>1</th>\n",
       "      <td>1</td>\n",
       "      <td>OXXO XINANTECATL</td>\n",
       "    </tr>\n",
       "    <tr>\n",
       "      <th>2</th>\n",
       "      <td>2</td>\n",
       "      <td>SIN NOMBRE</td>\n",
       "    </tr>\n",
       "    <tr>\n",
       "      <th>3</th>\n",
       "      <td>3</td>\n",
       "      <td>EL MORENO</td>\n",
       "    </tr>\n",
       "    <tr>\n",
       "      <th>4</th>\n",
       "      <td>4</td>\n",
       "      <td>SDN SER  DE ALIM  CUERPO SA CIA  DE INT</td>\n",
       "    </tr>\n",
       "    <tr>\n",
       "      <th>5</th>\n",
       "      <td>4</td>\n",
       "      <td>SDN SER DE ALIM CUERPO SA CIA DE INT</td>\n",
       "    </tr>\n",
       "  </tbody>\n",
       "</table>\n",
       "</div>"
      ],
      "text/plain": [
       "   Client ID                            NombreCliente\n",
       "0          0                               SIN NOMBRE\n",
       "1          1                         OXXO XINANTECATL\n",
       "2          2                               SIN NOMBRE\n",
       "3          3                                EL MORENO\n",
       "4          4  SDN SER  DE ALIM  CUERPO SA CIA  DE INT\n",
       "5          4     SDN SER DE ALIM CUERPO SA CIA DE INT"
      ]
     },
     "execution_count": 25,
     "metadata": {},
     "output_type": "execute_result"
    }
   ],
   "source": [
    "client_data.head(6)"
   ]
  },
  {
   "attachments": {},
   "cell_type": "markdown",
   "metadata": {},
   "source": [
    "We can see that our dataset have duplicate rows. Let us remove those rows."
   ]
  },
  {
   "cell_type": "code",
   "execution_count": 26,
   "metadata": {},
   "outputs": [],
   "source": [
    "client_data = client_data.drop_duplicates(keep=\"first\", subset=[\"Client ID\"]).reset_index()\n",
    "del client_data[\"index\"]"
   ]
  },
  {
   "cell_type": "code",
   "execution_count": 27,
   "metadata": {},
   "outputs": [
    {
     "name": "stdout",
     "output_type": "stream",
     "text": [
      "Our client dataset has 930500 observations and 2 variables.\n"
     ]
    }
   ],
   "source": [
    "print(\"Our client dataset has\", client_data.shape[0], \"observations\", \"and\", client_data.shape[1], \"variables.\")"
   ]
  },
  {
   "cell_type": "code",
   "execution_count": 28,
   "metadata": {},
   "outputs": [
    {
     "data": {
      "text/html": [
       "<div>\n",
       "<style scoped>\n",
       "    .dataframe tbody tr th:only-of-type {\n",
       "        vertical-align: middle;\n",
       "    }\n",
       "\n",
       "    .dataframe tbody tr th {\n",
       "        vertical-align: top;\n",
       "    }\n",
       "\n",
       "    .dataframe thead th {\n",
       "        text-align: right;\n",
       "    }\n",
       "</style>\n",
       "<table border=\"1\" class=\"dataframe\">\n",
       "  <thead>\n",
       "    <tr style=\"text-align: right;\">\n",
       "      <th></th>\n",
       "      <th>Client ID</th>\n",
       "      <th>NombreCliente</th>\n",
       "    </tr>\n",
       "  </thead>\n",
       "  <tbody>\n",
       "    <tr>\n",
       "      <th>0</th>\n",
       "      <td>0</td>\n",
       "      <td>SIN NOMBRE</td>\n",
       "    </tr>\n",
       "    <tr>\n",
       "      <th>1</th>\n",
       "      <td>1</td>\n",
       "      <td>OXXO XINANTECATL</td>\n",
       "    </tr>\n",
       "    <tr>\n",
       "      <th>2</th>\n",
       "      <td>2</td>\n",
       "      <td>SIN NOMBRE</td>\n",
       "    </tr>\n",
       "    <tr>\n",
       "      <th>3</th>\n",
       "      <td>3</td>\n",
       "      <td>EL MORENO</td>\n",
       "    </tr>\n",
       "    <tr>\n",
       "      <th>4</th>\n",
       "      <td>4</td>\n",
       "      <td>SDN SER  DE ALIM  CUERPO SA CIA  DE INT</td>\n",
       "    </tr>\n",
       "    <tr>\n",
       "      <th>5</th>\n",
       "      <td>5</td>\n",
       "      <td>LA VAQUITA</td>\n",
       "    </tr>\n",
       "    <tr>\n",
       "      <th>6</th>\n",
       "      <td>6</td>\n",
       "      <td>LUPITA</td>\n",
       "    </tr>\n",
       "  </tbody>\n",
       "</table>\n",
       "</div>"
      ],
      "text/plain": [
       "   Client ID                            NombreCliente\n",
       "0          0                               SIN NOMBRE\n",
       "1          1                         OXXO XINANTECATL\n",
       "2          2                               SIN NOMBRE\n",
       "3          3                                EL MORENO\n",
       "4          4  SDN SER  DE ALIM  CUERPO SA CIA  DE INT\n",
       "5          5                               LA VAQUITA\n",
       "6          6                                   LUPITA"
      ]
     },
     "execution_count": 28,
     "metadata": {},
     "output_type": "execute_result"
    }
   ],
   "source": [
    "client_data.head(7)"
   ]
  },
  {
   "cell_type": "code",
   "execution_count": 29,
   "metadata": {},
   "outputs": [],
   "source": [
    "client_data[\"client_name_id\"] = client_data.apply(\n",
    "    lambda x: x[\"NombreCliente\"] + \"_\" + str(x[\"Client ID\"]) \n",
    "    if x[\"NombreCliente\"] == \"NO IDENTIFICADO\" else x[\"NombreCliente\"], \n",
    "    axis=1\n",
    ")"
   ]
  },
  {
   "cell_type": "code",
   "execution_count": 30,
   "metadata": {},
   "outputs": [
    {
     "name": "stdout",
     "output_type": "stream",
     "text": [
      "There are 588678 identifying clients.\n"
     ]
    }
   ],
   "source": [
    "le = LabelEncoder()\n",
    "client_data[\"client_name_id\"] = le.fit_transform(client_data[\"client_name_id\"])\n",
    "print(\"There are\", client_data[\"client_name_id\"].nunique(), \"identifying clients.\")"
   ]
  },
  {
   "cell_type": "code",
   "execution_count": 31,
   "metadata": {},
   "outputs": [
    {
     "name": "stdout",
     "output_type": "stream",
     "text": [
      "<class 'pandas.core.frame.DataFrame'>\n",
      "RangeIndex: 930500 entries, 0 to 930499\n",
      "Data columns (total 3 columns):\n",
      " #   Column          Non-Null Count   Dtype \n",
      "---  ------          --------------   ----- \n",
      " 0   Client ID       930500 non-null  int32 \n",
      " 1   NombreCliente   930500 non-null  object\n",
      " 2   client_name_id  930500 non-null  int32 \n",
      "dtypes: int32(2), object(1)\n",
      "memory usage: 14.2+ MB\n"
     ]
    }
   ],
   "source": [
    "client_data.info()"
   ]
  },
  {
   "attachments": {},
   "cell_type": "markdown",
   "metadata": {},
   "source": [
    "### Product Data"
   ]
  },
  {
   "cell_type": "code",
   "execution_count": 32,
   "metadata": {},
   "outputs": [
    {
     "data": {
      "text/html": [
       "<div>\n",
       "<style scoped>\n",
       "    .dataframe tbody tr th:only-of-type {\n",
       "        vertical-align: middle;\n",
       "    }\n",
       "\n",
       "    .dataframe tbody tr th {\n",
       "        vertical-align: top;\n",
       "    }\n",
       "\n",
       "    .dataframe thead th {\n",
       "        text-align: right;\n",
       "    }\n",
       "</style>\n",
       "<table border=\"1\" class=\"dataframe\">\n",
       "  <thead>\n",
       "    <tr style=\"text-align: right;\">\n",
       "      <th></th>\n",
       "      <th>Product ID</th>\n",
       "      <th>NombreProducto</th>\n",
       "    </tr>\n",
       "  </thead>\n",
       "  <tbody>\n",
       "    <tr>\n",
       "      <th>0</th>\n",
       "      <td>0</td>\n",
       "      <td>NO IDENTIFICADO 0</td>\n",
       "    </tr>\n",
       "    <tr>\n",
       "      <th>1</th>\n",
       "      <td>9</td>\n",
       "      <td>Capuccino Moka 750g NES 9</td>\n",
       "    </tr>\n",
       "    <tr>\n",
       "      <th>2</th>\n",
       "      <td>41</td>\n",
       "      <td>Bimbollos Ext sAjonjoli 6p 480g BIM 41</td>\n",
       "    </tr>\n",
       "    <tr>\n",
       "      <th>3</th>\n",
       "      <td>53</td>\n",
       "      <td>Burritos Sincro 170g CU LON 53</td>\n",
       "    </tr>\n",
       "    <tr>\n",
       "      <th>4</th>\n",
       "      <td>72</td>\n",
       "      <td>Div Tira Mini Doradita 4p 45g TR 72</td>\n",
       "    </tr>\n",
       "  </tbody>\n",
       "</table>\n",
       "</div>"
      ],
      "text/plain": [
       "   Product ID                          NombreProducto\n",
       "0           0                       NO IDENTIFICADO 0\n",
       "1           9               Capuccino Moka 750g NES 9\n",
       "2          41  Bimbollos Ext sAjonjoli 6p 480g BIM 41\n",
       "3          53          Burritos Sincro 170g CU LON 53\n",
       "4          72     Div Tira Mini Doradita 4p 45g TR 72"
      ]
     },
     "execution_count": 32,
     "metadata": {},
     "output_type": "execute_result"
    }
   ],
   "source": [
    "product_data.head()"
   ]
  },
  {
   "cell_type": "code",
   "execution_count": 33,
   "metadata": {},
   "outputs": [
    {
     "name": "stdout",
     "output_type": "stream",
     "text": [
      "Our product data has 2592 observations and 2 variables.\n"
     ]
    }
   ],
   "source": [
    "print(\"Our product data has\", product_data.shape[0], \"observations and\", product_data.shape[1], \"variables.\")"
   ]
  },
  {
   "cell_type": "code",
   "execution_count": 34,
   "metadata": {},
   "outputs": [],
   "source": [
    "product_data[\"NombreProducto\"] = product_data[\"NombreProducto\"].str.replace(r\"\\s+\\d+$\", \"\", regex=True)\n",
    "product_data[\"NombreProducto\"] = product_data.apply(\n",
    "    lambda x: x[\"NombreProducto\"] + \" \" + \"-1p\" + \" \" + \"-1g\" + \" \" + \"na\"\n",
    "    if x[\"NombreProducto\"] == \"NO IDENTIFICADO\"\n",
    "    else x[\"NombreProducto\"], axis=1\n",
    ")\n",
    "product_data[\"units\"] = product_data[\"NombreProducto\"].str.extract(r\" (-?\\d+p) \")\n",
    "product_data[\"size\"] = product_data[\"NombreProducto\"].str.extract(r\" (-?\\d+(?:g|kg|Kg|ml)) \")\n",
    "product_data[\"brand\"] = product_data[\"NombreProducto\"].str.extract(r\" ([^(?:g|l|p)]*$)\")\n",
    "product_data[\"product_name\"] = product_data[\"NombreProducto\"].str.extract(r\"^(.*?)\\s+-?\\d+(?:g|ml|kg|Kg|p|P)\\s+\")"
   ]
  },
  {
   "cell_type": "code",
   "execution_count": 35,
   "metadata": {},
   "outputs": [],
   "source": [
    "product_data[\"size_metric\"] = product_data[\"size\"].str.extract(r\"(g|kg|Kg|ml)$\").fillna(\"g\")\n",
    "product_data[\"size\"] = product_data[\"size\"].str.extract(r\"(-?\\d+)\").fillna(\"-1\").astype(\"int32\")\n",
    "product_data[\"weight\"] = product_data.apply(\n",
    "    lambda x: int(x[\"size\"]) if x[\"size_metric\"] == \"g\" or x[\"size_metric\"] == \"ml\"\n",
    "    else int(x[\"size\"]) * 1000, axis=1\n",
    ").astype(\"int32\")\n",
    "del product_data[\"size\"]\n",
    "del product_data[\"size_metric\"]\n",
    "product_data[\"weight\"] = product_data[\"weight\"].replace(-1, np.NaN)\n",
    "product_data[\"units\"] = product_data[\"units\"].str.extract(r\"(-?\\d+)\").fillna(\"-1\").astype(\"int16\")\n",
    "product_data[\"units\"] = product_data[\"units\"].replace(-1, np.NaN)\n",
    "product_data[\"brand\"] = product_data[\"brand\"].replace(r\"^na$\", np.NaN, regex=True)\n",
    "del product_data[\"NombreProducto\"]\n",
    "product_data = product_data[[\"Product ID\", \"product_name\", \"brand\", \"weight\", \"units\"]]"
   ]
  },
  {
   "cell_type": "code",
   "execution_count": 36,
   "metadata": {},
   "outputs": [
    {
     "data": {
      "text/html": [
       "<div>\n",
       "<style scoped>\n",
       "    .dataframe tbody tr th:only-of-type {\n",
       "        vertical-align: middle;\n",
       "    }\n",
       "\n",
       "    .dataframe tbody tr th {\n",
       "        vertical-align: top;\n",
       "    }\n",
       "\n",
       "    .dataframe thead th {\n",
       "        text-align: right;\n",
       "    }\n",
       "</style>\n",
       "<table border=\"1\" class=\"dataframe\">\n",
       "  <thead>\n",
       "    <tr style=\"text-align: right;\">\n",
       "      <th></th>\n",
       "      <th>Product ID</th>\n",
       "      <th>product_name</th>\n",
       "      <th>brand</th>\n",
       "      <th>weight</th>\n",
       "      <th>units</th>\n",
       "    </tr>\n",
       "  </thead>\n",
       "  <tbody>\n",
       "    <tr>\n",
       "      <th>2587</th>\n",
       "      <td>49992</td>\n",
       "      <td>Tostado Integral</td>\n",
       "      <td>MTA WON</td>\n",
       "      <td>180.0</td>\n",
       "      <td>NaN</td>\n",
       "    </tr>\n",
       "    <tr>\n",
       "      <th>2588</th>\n",
       "      <td>49993</td>\n",
       "      <td>Tostado Integral</td>\n",
       "      <td>TAB WON</td>\n",
       "      <td>180.0</td>\n",
       "      <td>NaN</td>\n",
       "    </tr>\n",
       "    <tr>\n",
       "      <th>2589</th>\n",
       "      <td>49994</td>\n",
       "      <td>Tostado Int 0pct Grasa Azuc</td>\n",
       "      <td>WON</td>\n",
       "      <td>200.0</td>\n",
       "      <td>NaN</td>\n",
       "    </tr>\n",
       "    <tr>\n",
       "      <th>2590</th>\n",
       "      <td>49996</td>\n",
       "      <td>Tostado Int 0pct Grasa Azuc</td>\n",
       "      <td>MTA WON</td>\n",
       "      <td>200.0</td>\n",
       "      <td>NaN</td>\n",
       "    </tr>\n",
       "    <tr>\n",
       "      <th>2591</th>\n",
       "      <td>49997</td>\n",
       "      <td>Tostado Int 0pct Grasa Azuc</td>\n",
       "      <td>TAB WON</td>\n",
       "      <td>200.0</td>\n",
       "      <td>NaN</td>\n",
       "    </tr>\n",
       "  </tbody>\n",
       "</table>\n",
       "</div>"
      ],
      "text/plain": [
       "      Product ID                 product_name    brand  weight  units\n",
       "2587       49992             Tostado Integral  MTA WON   180.0    NaN\n",
       "2588       49993             Tostado Integral  TAB WON   180.0    NaN\n",
       "2589       49994  Tostado Int 0pct Grasa Azuc      WON   200.0    NaN\n",
       "2590       49996  Tostado Int 0pct Grasa Azuc  MTA WON   200.0    NaN\n",
       "2591       49997  Tostado Int 0pct Grasa Azuc  TAB WON   200.0    NaN"
      ]
     },
     "execution_count": 36,
     "metadata": {},
     "output_type": "execute_result"
    }
   ],
   "source": [
    "product_data.tail()"
   ]
  },
  {
   "cell_type": "code",
   "execution_count": 44,
   "metadata": {},
   "outputs": [
    {
     "data": {
      "text/html": [
       "<div>\n",
       "<style scoped>\n",
       "    .dataframe tbody tr th:only-of-type {\n",
       "        vertical-align: middle;\n",
       "    }\n",
       "\n",
       "    .dataframe tbody tr th {\n",
       "        vertical-align: top;\n",
       "    }\n",
       "\n",
       "    .dataframe thead th {\n",
       "        text-align: right;\n",
       "    }\n",
       "</style>\n",
       "<table border=\"1\" class=\"dataframe\">\n",
       "  <thead>\n",
       "    <tr style=\"text-align: right;\">\n",
       "      <th></th>\n",
       "      <th>weight</th>\n",
       "      <th>units</th>\n",
       "    </tr>\n",
       "  </thead>\n",
       "  <tbody>\n",
       "    <tr>\n",
       "      <th>count</th>\n",
       "      <td>2523.000000</td>\n",
       "      <td>1117.000000</td>\n",
       "    </tr>\n",
       "    <tr>\n",
       "      <th>mean</th>\n",
       "      <td>416.897344</td>\n",
       "      <td>10.567592</td>\n",
       "    </tr>\n",
       "    <tr>\n",
       "      <th>std</th>\n",
       "      <td>1770.309014</td>\n",
       "      <td>11.133603</td>\n",
       "    </tr>\n",
       "    <tr>\n",
       "      <th>min</th>\n",
       "      <td>4.000000</td>\n",
       "      <td>1.000000</td>\n",
       "    </tr>\n",
       "    <tr>\n",
       "      <th>25%</th>\n",
       "      <td>80.000000</td>\n",
       "      <td>4.000000</td>\n",
       "    </tr>\n",
       "    <tr>\n",
       "      <th>50%</th>\n",
       "      <td>180.000000</td>\n",
       "      <td>8.000000</td>\n",
       "    </tr>\n",
       "    <tr>\n",
       "      <th>75%</th>\n",
       "      <td>410.000000</td>\n",
       "      <td>12.000000</td>\n",
       "    </tr>\n",
       "    <tr>\n",
       "      <th>max</th>\n",
       "      <td>42000.000000</td>\n",
       "      <td>200.000000</td>\n",
       "    </tr>\n",
       "  </tbody>\n",
       "</table>\n",
       "</div>"
      ],
      "text/plain": [
       "             weight        units\n",
       "count   2523.000000  1117.000000\n",
       "mean     416.897344    10.567592\n",
       "std     1770.309014    11.133603\n",
       "min        4.000000     1.000000\n",
       "25%       80.000000     4.000000\n",
       "50%      180.000000     8.000000\n",
       "75%      410.000000    12.000000\n",
       "max    42000.000000   200.000000"
      ]
     },
     "execution_count": 44,
     "metadata": {},
     "output_type": "execute_result"
    }
   ],
   "source": [
    "product_data[[\"weight\", \"units\"]].describe()"
   ]
  },
  {
   "cell_type": "code",
   "execution_count": 37,
   "metadata": {},
   "outputs": [
    {
     "name": "stdout",
     "output_type": "stream",
     "text": [
      "<class 'pandas.core.frame.DataFrame'>\n",
      "RangeIndex: 2592 entries, 0 to 2591\n",
      "Data columns (total 5 columns):\n",
      " #   Column        Non-Null Count  Dtype  \n",
      "---  ------        --------------  -----  \n",
      " 0   Product ID    2592 non-null   int32  \n",
      " 1   product_name  2549 non-null   object \n",
      " 2   brand         2590 non-null   object \n",
      " 3   weight        2523 non-null   float64\n",
      " 4   units         1117 non-null   float64\n",
      "dtypes: float64(2), int32(1), object(2)\n",
      "memory usage: 91.2+ KB\n"
     ]
    }
   ],
   "source": [
    "product_data.info()"
   ]
  },
  {
   "attachments": {},
   "cell_type": "markdown",
   "metadata": {},
   "source": [
    "### Train and Test data"
   ]
  },
  {
   "cell_type": "code",
   "execution_count": 38,
   "metadata": {},
   "outputs": [
    {
     "data": {
      "text/html": [
       "<div>\n",
       "<style scoped>\n",
       "    .dataframe tbody tr th:only-of-type {\n",
       "        vertical-align: middle;\n",
       "    }\n",
       "\n",
       "    .dataframe tbody tr th {\n",
       "        vertical-align: top;\n",
       "    }\n",
       "\n",
       "    .dataframe thead th {\n",
       "        text-align: right;\n",
       "    }\n",
       "</style>\n",
       "<table border=\"1\" class=\"dataframe\">\n",
       "  <thead>\n",
       "    <tr style=\"text-align: right;\">\n",
       "      <th></th>\n",
       "      <th>wk_no</th>\n",
       "      <th>Sales Depot ID</th>\n",
       "      <th>Sales Channel ID</th>\n",
       "      <th>Route ID</th>\n",
       "      <th>Client ID</th>\n",
       "      <th>Product ID</th>\n",
       "      <th>Sales Unit this week</th>\n",
       "      <th>Sales this week</th>\n",
       "      <th>Returns Unit next week</th>\n",
       "      <th>Returns next week</th>\n",
       "      <th>Demand</th>\n",
       "    </tr>\n",
       "  </thead>\n",
       "  <tbody>\n",
       "    <tr>\n",
       "      <th>0</th>\n",
       "      <td>3</td>\n",
       "      <td>1110</td>\n",
       "      <td>7</td>\n",
       "      <td>3301</td>\n",
       "      <td>15766</td>\n",
       "      <td>1212</td>\n",
       "      <td>3</td>\n",
       "      <td>25.139999</td>\n",
       "      <td>0</td>\n",
       "      <td>0.0</td>\n",
       "      <td>3</td>\n",
       "    </tr>\n",
       "    <tr>\n",
       "      <th>1</th>\n",
       "      <td>3</td>\n",
       "      <td>1110</td>\n",
       "      <td>7</td>\n",
       "      <td>3301</td>\n",
       "      <td>15766</td>\n",
       "      <td>1216</td>\n",
       "      <td>4</td>\n",
       "      <td>33.520000</td>\n",
       "      <td>0</td>\n",
       "      <td>0.0</td>\n",
       "      <td>4</td>\n",
       "    </tr>\n",
       "    <tr>\n",
       "      <th>2</th>\n",
       "      <td>3</td>\n",
       "      <td>1110</td>\n",
       "      <td>7</td>\n",
       "      <td>3301</td>\n",
       "      <td>15766</td>\n",
       "      <td>1238</td>\n",
       "      <td>4</td>\n",
       "      <td>39.320000</td>\n",
       "      <td>0</td>\n",
       "      <td>0.0</td>\n",
       "      <td>4</td>\n",
       "    </tr>\n",
       "    <tr>\n",
       "      <th>3</th>\n",
       "      <td>3</td>\n",
       "      <td>1110</td>\n",
       "      <td>7</td>\n",
       "      <td>3301</td>\n",
       "      <td>15766</td>\n",
       "      <td>1240</td>\n",
       "      <td>4</td>\n",
       "      <td>33.520000</td>\n",
       "      <td>0</td>\n",
       "      <td>0.0</td>\n",
       "      <td>4</td>\n",
       "    </tr>\n",
       "    <tr>\n",
       "      <th>4</th>\n",
       "      <td>3</td>\n",
       "      <td>1110</td>\n",
       "      <td>7</td>\n",
       "      <td>3301</td>\n",
       "      <td>15766</td>\n",
       "      <td>1242</td>\n",
       "      <td>3</td>\n",
       "      <td>22.920000</td>\n",
       "      <td>0</td>\n",
       "      <td>0.0</td>\n",
       "      <td>3</td>\n",
       "    </tr>\n",
       "  </tbody>\n",
       "</table>\n",
       "</div>"
      ],
      "text/plain": [
       "   wk_no  Sales Depot ID  Sales Channel ID  Route ID  Client ID  Product ID  \\\n",
       "0      3            1110                 7      3301      15766        1212   \n",
       "1      3            1110                 7      3301      15766        1216   \n",
       "2      3            1110                 7      3301      15766        1238   \n",
       "3      3            1110                 7      3301      15766        1240   \n",
       "4      3            1110                 7      3301      15766        1242   \n",
       "\n",
       "   Sales Unit this week  Sales this week  Returns Unit next week  \\\n",
       "0                     3        25.139999                       0   \n",
       "1                     4        33.520000                       0   \n",
       "2                     4        39.320000                       0   \n",
       "3                     4        33.520000                       0   \n",
       "4                     3        22.920000                       0   \n",
       "\n",
       "   Returns next week  Demand  \n",
       "0                0.0       3  \n",
       "1                0.0       4  \n",
       "2                0.0       4  \n",
       "3                0.0       4  \n",
       "4                0.0       3  "
      ]
     },
     "execution_count": 38,
     "metadata": {},
     "output_type": "execute_result"
    }
   ],
   "source": [
    "train_data.head()"
   ]
  },
  {
   "cell_type": "code",
   "execution_count": 39,
   "metadata": {},
   "outputs": [
    {
     "name": "stdout",
     "output_type": "stream",
     "text": [
      "Our train data has 74180464 observations and 11 observations.\n"
     ]
    }
   ],
   "source": [
    "print(\"Our train data has\", train_data.shape[0], \"observations and\", train_data.shape[1], \"observations.\")"
   ]
  },
  {
   "cell_type": "code",
   "execution_count": 40,
   "metadata": {},
   "outputs": [
    {
     "data": {
      "text/html": [
       "<div>\n",
       "<style scoped>\n",
       "    .dataframe tbody tr th:only-of-type {\n",
       "        vertical-align: middle;\n",
       "    }\n",
       "\n",
       "    .dataframe tbody tr th {\n",
       "        vertical-align: top;\n",
       "    }\n",
       "\n",
       "    .dataframe thead th {\n",
       "        text-align: right;\n",
       "    }\n",
       "</style>\n",
       "<table border=\"1\" class=\"dataframe\">\n",
       "  <thead>\n",
       "    <tr style=\"text-align: right;\">\n",
       "      <th></th>\n",
       "      <th>Sales Unit this week</th>\n",
       "      <th>Sales this week</th>\n",
       "      <th>Returns Unit next week</th>\n",
       "      <th>Returns next week</th>\n",
       "      <th>Demand</th>\n",
       "    </tr>\n",
       "  </thead>\n",
       "  <tbody>\n",
       "    <tr>\n",
       "      <th>count</th>\n",
       "      <td>7.418046e+07</td>\n",
       "      <td>7.418046e+07</td>\n",
       "      <td>7.418046e+07</td>\n",
       "      <td>7.418046e+07</td>\n",
       "      <td>7.418046e+07</td>\n",
       "    </tr>\n",
       "    <tr>\n",
       "      <th>mean</th>\n",
       "      <td>7.310163e+00</td>\n",
       "      <td>6.854449e+01</td>\n",
       "      <td>1.302577e-01</td>\n",
       "      <td>1.243248e+00</td>\n",
       "      <td>7.224564e+00</td>\n",
       "    </tr>\n",
       "    <tr>\n",
       "      <th>std</th>\n",
       "      <td>2.196734e+01</td>\n",
       "      <td>3.389795e+02</td>\n",
       "      <td>2.932320e+01</td>\n",
       "      <td>3.921552e+01</td>\n",
       "      <td>2.177119e+01</td>\n",
       "    </tr>\n",
       "    <tr>\n",
       "      <th>min</th>\n",
       "      <td>0.000000e+00</td>\n",
       "      <td>0.000000e+00</td>\n",
       "      <td>0.000000e+00</td>\n",
       "      <td>0.000000e+00</td>\n",
       "      <td>0.000000e+00</td>\n",
       "    </tr>\n",
       "    <tr>\n",
       "      <th>25%</th>\n",
       "      <td>2.000000e+00</td>\n",
       "      <td>1.676000e+01</td>\n",
       "      <td>0.000000e+00</td>\n",
       "      <td>0.000000e+00</td>\n",
       "      <td>2.000000e+00</td>\n",
       "    </tr>\n",
       "    <tr>\n",
       "      <th>50%</th>\n",
       "      <td>3.000000e+00</td>\n",
       "      <td>3.000000e+01</td>\n",
       "      <td>0.000000e+00</td>\n",
       "      <td>0.000000e+00</td>\n",
       "      <td>3.000000e+00</td>\n",
       "    </tr>\n",
       "    <tr>\n",
       "      <th>75%</th>\n",
       "      <td>7.000000e+00</td>\n",
       "      <td>5.610000e+01</td>\n",
       "      <td>0.000000e+00</td>\n",
       "      <td>0.000000e+00</td>\n",
       "      <td>6.000000e+00</td>\n",
       "    </tr>\n",
       "    <tr>\n",
       "      <th>max</th>\n",
       "      <td>7.200000e+03</td>\n",
       "      <td>6.473600e+05</td>\n",
       "      <td>2.500000e+05</td>\n",
       "      <td>1.307600e+05</td>\n",
       "      <td>5.000000e+03</td>\n",
       "    </tr>\n",
       "  </tbody>\n",
       "</table>\n",
       "</div>"
      ],
      "text/plain": [
       "       Sales Unit this week  Sales this week  Returns Unit next week  \\\n",
       "count          7.418046e+07     7.418046e+07            7.418046e+07   \n",
       "mean           7.310163e+00     6.854449e+01            1.302577e-01   \n",
       "std            2.196734e+01     3.389795e+02            2.932320e+01   \n",
       "min            0.000000e+00     0.000000e+00            0.000000e+00   \n",
       "25%            2.000000e+00     1.676000e+01            0.000000e+00   \n",
       "50%            3.000000e+00     3.000000e+01            0.000000e+00   \n",
       "75%            7.000000e+00     5.610000e+01            0.000000e+00   \n",
       "max            7.200000e+03     6.473600e+05            2.500000e+05   \n",
       "\n",
       "       Returns next week        Demand  \n",
       "count       7.418046e+07  7.418046e+07  \n",
       "mean        1.243248e+00  7.224564e+00  \n",
       "std         3.921552e+01  2.177119e+01  \n",
       "min         0.000000e+00  0.000000e+00  \n",
       "25%         0.000000e+00  2.000000e+00  \n",
       "50%         0.000000e+00  3.000000e+00  \n",
       "75%         0.000000e+00  6.000000e+00  \n",
       "max         1.307600e+05  5.000000e+03  "
      ]
     },
     "execution_count": 40,
     "metadata": {},
     "output_type": "execute_result"
    }
   ],
   "source": [
    "train_data[[\"Sales Unit this week\", \"Sales this week\", \"Returns Unit next week\", \"Returns next week\", \"Demand\"]].describe()"
   ]
  },
  {
   "cell_type": "code",
   "execution_count": 41,
   "metadata": {},
   "outputs": [
    {
     "data": {
      "text/html": [
       "<div>\n",
       "<style scoped>\n",
       "    .dataframe tbody tr th:only-of-type {\n",
       "        vertical-align: middle;\n",
       "    }\n",
       "\n",
       "    .dataframe tbody tr th {\n",
       "        vertical-align: top;\n",
       "    }\n",
       "\n",
       "    .dataframe thead th {\n",
       "        text-align: right;\n",
       "    }\n",
       "</style>\n",
       "<table border=\"1\" class=\"dataframe\">\n",
       "  <thead>\n",
       "    <tr style=\"text-align: right;\">\n",
       "      <th></th>\n",
       "      <th>id</th>\n",
       "      <th>wk_no</th>\n",
       "      <th>Sales Depot ID</th>\n",
       "      <th>Sales Channel ID</th>\n",
       "      <th>Route ID</th>\n",
       "      <th>Client ID</th>\n",
       "      <th>Product ID</th>\n",
       "    </tr>\n",
       "  </thead>\n",
       "  <tbody>\n",
       "    <tr>\n",
       "      <th>0</th>\n",
       "      <td>0</td>\n",
       "      <td>11</td>\n",
       "      <td>4037</td>\n",
       "      <td>1</td>\n",
       "      <td>2209</td>\n",
       "      <td>4639078</td>\n",
       "      <td>35305</td>\n",
       "    </tr>\n",
       "    <tr>\n",
       "      <th>1</th>\n",
       "      <td>1</td>\n",
       "      <td>11</td>\n",
       "      <td>2237</td>\n",
       "      <td>1</td>\n",
       "      <td>1226</td>\n",
       "      <td>4705135</td>\n",
       "      <td>1238</td>\n",
       "    </tr>\n",
       "    <tr>\n",
       "      <th>2</th>\n",
       "      <td>2</td>\n",
       "      <td>10</td>\n",
       "      <td>2045</td>\n",
       "      <td>1</td>\n",
       "      <td>2831</td>\n",
       "      <td>4549769</td>\n",
       "      <td>32940</td>\n",
       "    </tr>\n",
       "    <tr>\n",
       "      <th>3</th>\n",
       "      <td>3</td>\n",
       "      <td>11</td>\n",
       "      <td>1227</td>\n",
       "      <td>1</td>\n",
       "      <td>4448</td>\n",
       "      <td>4717855</td>\n",
       "      <td>43066</td>\n",
       "    </tr>\n",
       "    <tr>\n",
       "      <th>4</th>\n",
       "      <td>4</td>\n",
       "      <td>11</td>\n",
       "      <td>1219</td>\n",
       "      <td>1</td>\n",
       "      <td>1130</td>\n",
       "      <td>966351</td>\n",
       "      <td>1277</td>\n",
       "    </tr>\n",
       "  </tbody>\n",
       "</table>\n",
       "</div>"
      ],
      "text/plain": [
       "   id  wk_no  Sales Depot ID  Sales Channel ID  Route ID  Client ID  \\\n",
       "0   0     11            4037                 1      2209    4639078   \n",
       "1   1     11            2237                 1      1226    4705135   \n",
       "2   2     10            2045                 1      2831    4549769   \n",
       "3   3     11            1227                 1      4448    4717855   \n",
       "4   4     11            1219                 1      1130     966351   \n",
       "\n",
       "   Product ID  \n",
       "0       35305  \n",
       "1        1238  \n",
       "2       32940  \n",
       "3       43066  \n",
       "4        1277  "
      ]
     },
     "execution_count": 41,
     "metadata": {},
     "output_type": "execute_result"
    }
   ],
   "source": [
    "test_data.head()"
   ]
  },
  {
   "cell_type": "code",
   "execution_count": 42,
   "metadata": {},
   "outputs": [
    {
     "name": "stdout",
     "output_type": "stream",
     "text": [
      "Our test data has 6999251 observations and 7 observations.\n"
     ]
    }
   ],
   "source": [
    "print(\"Our test data has\", test_data.shape[0], \"observations and\", test_data.shape[1], \"observations.\")"
   ]
  },
  {
   "cell_type": "code",
   "execution_count": 43,
   "metadata": {},
   "outputs": [
    {
     "name": "stdout",
     "output_type": "stream",
     "text": [
      "<class 'pandas.core.frame.DataFrame'>\n",
      "RangeIndex: 6999251 entries, 0 to 6999250\n",
      "Data columns (total 7 columns):\n",
      " #   Column            Dtype\n",
      "---  ------            -----\n",
      " 0   id                int64\n",
      " 1   wk_no             int8 \n",
      " 2   Sales Depot ID    int16\n",
      " 3   Sales Channel ID  int8 \n",
      " 4   Route ID          int16\n",
      " 5   Client ID         int32\n",
      " 6   Product ID        int32\n",
      "dtypes: int16(2), int32(2), int64(1), int8(2)\n",
      "memory usage: 146.9 MB\n"
     ]
    }
   ],
   "source": [
    "test_data.info()"
   ]
  },
  {
   "attachments": {},
   "cell_type": "markdown",
   "metadata": {},
   "source": [
    "### Putting our data into a csv file"
   ]
  },
  {
   "cell_type": "code",
   "execution_count": 45,
   "metadata": {},
   "outputs": [],
   "source": [
    "import os"
   ]
  },
  {
   "cell_type": "code",
   "execution_count": 46,
   "metadata": {},
   "outputs": [],
   "source": [
    "parent_dir = os.getcwd()\n",
    "path = os.path.join(parent_dir, \"Stage_1-Data Exploration\")\n",
    "if os.path.exists(path) != True: \n",
    "   os.mkdir(path)\n",
    "\n",
    "os.chdir(path)\n",
    "town_state_data.to_csv(\"town_state.csv\")\n",
    "client_data.to_csv(\"client.csv\")\n",
    "product_data.to_csv(\"product.csv\")\n",
    "train_data.to_csv(\"train.csv\")\n",
    "test_data.to_csv(\"test.csv\")"
   ]
  }
 ],
 "metadata": {
  "kernelspec": {
   "display_name": "Python 3",
   "language": "python",
   "name": "python3"
  },
  "language_info": {
   "codemirror_mode": {
    "name": "ipython",
    "version": 3
   },
   "file_extension": ".py",
   "mimetype": "text/x-python",
   "name": "python",
   "nbconvert_exporter": "python",
   "pygments_lexer": "ipython3",
   "version": "3.10.4"
  },
  "orig_nbformat": 4,
  "vscode": {
   "interpreter": {
    "hash": "8bdf5eb37d7c86464c789afd9157be3d913a30107389366e580428a7e4d8b75d"
   }
  }
 },
 "nbformat": 4,
 "nbformat_minor": 2
}
